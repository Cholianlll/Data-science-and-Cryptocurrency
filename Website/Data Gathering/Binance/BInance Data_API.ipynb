{
 "cells": [
  {
   "cell_type": "markdown",
   "id": "448bfe70",
   "metadata": {},
   "source": [
    "# Introduction"
   ]
  },
  {
   "cell_type": "markdown",
   "id": "378e6e0d",
   "metadata": {},
   "source": [
    "API doc:https://binance-docs.github.io/apidocs/spot/en/"
   ]
  },
  {
   "cell_type": "markdown",
   "id": "7cfe384c",
   "metadata": {},
   "source": [
    "The Following API can return all historical trading related data of tokens activated in Binance enchanges. "
   ]
  },
  {
   "cell_type": "code",
   "execution_count": 18,
   "id": "f205b8fc",
   "metadata": {},
   "outputs": [],
   "source": [
    "# Packages\n",
    "import time\n",
    "import json\n",
    "\n",
    "import requests\n",
    "import pandas as pd\n",
    "import numpy as np\n",
    "import datetime\n",
    "from urllib.parse import urljoin, urlencode\n",
    "from dateutil import parser\n"
   ]
  },
  {
   "cell_type": "markdown",
   "id": "082bc95a",
   "metadata": {},
   "source": [
    "# Obtian the exchange info"
   ]
  },
  {
   "cell_type": "code",
   "execution_count": 20,
   "id": "4e285c29",
   "metadata": {},
   "outputs": [],
   "source": [
    "# Obtain the exchange information firstly\n",
    "def exchangeInfo():\n",
    "    BASE_URL = 'https://api.binance.com'\n",
    "    PATH = '/api/v3/exchangeInfo'\n",
    "    \n",
    "    url = urljoin(BASE_URL, PATH)\n",
    "    \n",
    "    response = requests.get(url)\n",
    "\n",
    "    data = response.json()\n",
    "    data = pd.DataFrame(data['symbols'])\n",
    "    return data"
   ]
  },
  {
   "cell_type": "code",
   "execution_count": 21,
   "id": "d54c7ed0",
   "metadata": {},
   "outputs": [
    {
     "data": {
      "text/html": [
       "<div>\n",
       "<style scoped>\n",
       "    .dataframe tbody tr th:only-of-type {\n",
       "        vertical-align: middle;\n",
       "    }\n",
       "\n",
       "    .dataframe tbody tr th {\n",
       "        vertical-align: top;\n",
       "    }\n",
       "\n",
       "    .dataframe thead th {\n",
       "        text-align: right;\n",
       "    }\n",
       "</style>\n",
       "<table border=\"1\" class=\"dataframe\">\n",
       "  <thead>\n",
       "    <tr style=\"text-align: right;\">\n",
       "      <th></th>\n",
       "      <th>symbol</th>\n",
       "      <th>status</th>\n",
       "      <th>baseAsset</th>\n",
       "      <th>baseAssetPrecision</th>\n",
       "      <th>quoteAsset</th>\n",
       "      <th>quotePrecision</th>\n",
       "      <th>quoteAssetPrecision</th>\n",
       "      <th>baseCommissionPrecision</th>\n",
       "      <th>quoteCommissionPrecision</th>\n",
       "      <th>orderTypes</th>\n",
       "      <th>icebergAllowed</th>\n",
       "      <th>ocoAllowed</th>\n",
       "      <th>quoteOrderQtyMarketAllowed</th>\n",
       "      <th>isSpotTradingAllowed</th>\n",
       "      <th>isMarginTradingAllowed</th>\n",
       "      <th>filters</th>\n",
       "      <th>permissions</th>\n",
       "    </tr>\n",
       "  </thead>\n",
       "  <tbody>\n",
       "    <tr>\n",
       "      <th>0</th>\n",
       "      <td>ETHBTC</td>\n",
       "      <td>TRADING</td>\n",
       "      <td>ETH</td>\n",
       "      <td>8</td>\n",
       "      <td>BTC</td>\n",
       "      <td>8</td>\n",
       "      <td>8</td>\n",
       "      <td>8</td>\n",
       "      <td>8</td>\n",
       "      <td>[LIMIT, LIMIT_MAKER, MARKET, STOP_LOSS_LIMIT, ...</td>\n",
       "      <td>True</td>\n",
       "      <td>True</td>\n",
       "      <td>True</td>\n",
       "      <td>True</td>\n",
       "      <td>True</td>\n",
       "      <td>[{'filterType': 'PRICE_FILTER', 'minPrice': '0...</td>\n",
       "      <td>[SPOT, MARGIN]</td>\n",
       "    </tr>\n",
       "    <tr>\n",
       "      <th>1</th>\n",
       "      <td>LTCBTC</td>\n",
       "      <td>TRADING</td>\n",
       "      <td>LTC</td>\n",
       "      <td>8</td>\n",
       "      <td>BTC</td>\n",
       "      <td>8</td>\n",
       "      <td>8</td>\n",
       "      <td>8</td>\n",
       "      <td>8</td>\n",
       "      <td>[LIMIT, LIMIT_MAKER, MARKET, STOP_LOSS_LIMIT, ...</td>\n",
       "      <td>True</td>\n",
       "      <td>True</td>\n",
       "      <td>True</td>\n",
       "      <td>True</td>\n",
       "      <td>True</td>\n",
       "      <td>[{'filterType': 'PRICE_FILTER', 'minPrice': '0...</td>\n",
       "      <td>[SPOT, MARGIN]</td>\n",
       "    </tr>\n",
       "    <tr>\n",
       "      <th>2</th>\n",
       "      <td>BNBBTC</td>\n",
       "      <td>TRADING</td>\n",
       "      <td>BNB</td>\n",
       "      <td>8</td>\n",
       "      <td>BTC</td>\n",
       "      <td>8</td>\n",
       "      <td>8</td>\n",
       "      <td>8</td>\n",
       "      <td>8</td>\n",
       "      <td>[LIMIT, LIMIT_MAKER, MARKET, STOP_LOSS_LIMIT, ...</td>\n",
       "      <td>True</td>\n",
       "      <td>True</td>\n",
       "      <td>True</td>\n",
       "      <td>True</td>\n",
       "      <td>True</td>\n",
       "      <td>[{'filterType': 'PRICE_FILTER', 'minPrice': '0...</td>\n",
       "      <td>[SPOT, MARGIN]</td>\n",
       "    </tr>\n",
       "    <tr>\n",
       "      <th>3</th>\n",
       "      <td>NEOBTC</td>\n",
       "      <td>TRADING</td>\n",
       "      <td>NEO</td>\n",
       "      <td>8</td>\n",
       "      <td>BTC</td>\n",
       "      <td>8</td>\n",
       "      <td>8</td>\n",
       "      <td>8</td>\n",
       "      <td>8</td>\n",
       "      <td>[LIMIT, LIMIT_MAKER, MARKET, STOP_LOSS_LIMIT, ...</td>\n",
       "      <td>True</td>\n",
       "      <td>True</td>\n",
       "      <td>True</td>\n",
       "      <td>True</td>\n",
       "      <td>True</td>\n",
       "      <td>[{'filterType': 'PRICE_FILTER', 'minPrice': '0...</td>\n",
       "      <td>[SPOT, MARGIN]</td>\n",
       "    </tr>\n",
       "    <tr>\n",
       "      <th>4</th>\n",
       "      <td>QTUMETH</td>\n",
       "      <td>TRADING</td>\n",
       "      <td>QTUM</td>\n",
       "      <td>8</td>\n",
       "      <td>ETH</td>\n",
       "      <td>8</td>\n",
       "      <td>8</td>\n",
       "      <td>8</td>\n",
       "      <td>8</td>\n",
       "      <td>[LIMIT, LIMIT_MAKER, MARKET, STOP_LOSS_LIMIT, ...</td>\n",
       "      <td>True</td>\n",
       "      <td>True</td>\n",
       "      <td>True</td>\n",
       "      <td>True</td>\n",
       "      <td>False</td>\n",
       "      <td>[{'filterType': 'PRICE_FILTER', 'minPrice': '0...</td>\n",
       "      <td>[SPOT]</td>\n",
       "    </tr>\n",
       "  </tbody>\n",
       "</table>\n",
       "</div>"
      ],
      "text/plain": [
       "    symbol   status baseAsset  baseAssetPrecision quoteAsset  quotePrecision  \\\n",
       "0   ETHBTC  TRADING       ETH                   8        BTC               8   \n",
       "1   LTCBTC  TRADING       LTC                   8        BTC               8   \n",
       "2   BNBBTC  TRADING       BNB                   8        BTC               8   \n",
       "3   NEOBTC  TRADING       NEO                   8        BTC               8   \n",
       "4  QTUMETH  TRADING      QTUM                   8        ETH               8   \n",
       "\n",
       "   quoteAssetPrecision  baseCommissionPrecision  quoteCommissionPrecision  \\\n",
       "0                    8                        8                         8   \n",
       "1                    8                        8                         8   \n",
       "2                    8                        8                         8   \n",
       "3                    8                        8                         8   \n",
       "4                    8                        8                         8   \n",
       "\n",
       "                                          orderTypes  icebergAllowed  \\\n",
       "0  [LIMIT, LIMIT_MAKER, MARKET, STOP_LOSS_LIMIT, ...            True   \n",
       "1  [LIMIT, LIMIT_MAKER, MARKET, STOP_LOSS_LIMIT, ...            True   \n",
       "2  [LIMIT, LIMIT_MAKER, MARKET, STOP_LOSS_LIMIT, ...            True   \n",
       "3  [LIMIT, LIMIT_MAKER, MARKET, STOP_LOSS_LIMIT, ...            True   \n",
       "4  [LIMIT, LIMIT_MAKER, MARKET, STOP_LOSS_LIMIT, ...            True   \n",
       "\n",
       "   ocoAllowed  quoteOrderQtyMarketAllowed  isSpotTradingAllowed  \\\n",
       "0        True                        True                  True   \n",
       "1        True                        True                  True   \n",
       "2        True                        True                  True   \n",
       "3        True                        True                  True   \n",
       "4        True                        True                  True   \n",
       "\n",
       "   isMarginTradingAllowed                                            filters  \\\n",
       "0                    True  [{'filterType': 'PRICE_FILTER', 'minPrice': '0...   \n",
       "1                    True  [{'filterType': 'PRICE_FILTER', 'minPrice': '0...   \n",
       "2                    True  [{'filterType': 'PRICE_FILTER', 'minPrice': '0...   \n",
       "3                    True  [{'filterType': 'PRICE_FILTER', 'minPrice': '0...   \n",
       "4                   False  [{'filterType': 'PRICE_FILTER', 'minPrice': '0...   \n",
       "\n",
       "      permissions  \n",
       "0  [SPOT, MARGIN]  \n",
       "1  [SPOT, MARGIN]  \n",
       "2  [SPOT, MARGIN]  \n",
       "3  [SPOT, MARGIN]  \n",
       "4          [SPOT]  "
      ]
     },
     "execution_count": 21,
     "metadata": {},
     "output_type": "execute_result"
    }
   ],
   "source": [
    "tokenInfo = exchangeInfo()\n",
    "\n",
    "tokenInfo.head()"
   ]
  },
  {
   "cell_type": "code",
   "execution_count": 22,
   "id": "f170640e",
   "metadata": {},
   "outputs": [
    {
     "data": {
      "text/plain": [
       "'ETHBTC'"
      ]
     },
     "execution_count": 22,
     "metadata": {},
     "output_type": "execute_result"
    }
   ],
   "source": [
    "tokenInfo.to_csv(\"Exchange_info.csv\")\n",
    "\n",
    "# example\n",
    "tokenInfo['symbol'][0]"
   ]
  },
  {
   "cell_type": "markdown",
   "id": "38cae151",
   "metadata": {},
   "source": [
    "# obtain the historicl data of tokens"
   ]
  },
  {
   "cell_type": "markdown",
   "id": "d9768917",
   "metadata": {},
   "source": [
    "Binance exchange provides from monthly frequency data to minute frequency data."
   ]
  },
  {
   "cell_type": "code",
   "execution_count": 23,
   "id": "68bf739d",
   "metadata": {},
   "outputs": [],
   "source": [
    "# timedelta_fre = ['W','D','hours','m','s','ms']\n",
    "itv = [\"1m\",\"3m\",\"5m\",\"15m\",\"30m\",\"1h\",\"2h\",\"4h\",\"6h\",\"8h\",\"12h\",\"1d\",\"3d\",\"1w\",\"1M\"]\n",
    "\n",
    "# historical of token price should be indexed by its symbol.\n",
    "smb = tokenInfo['symbol']"
   ]
  },
  {
   "cell_type": "code",
   "execution_count": 24,
   "id": "603f2394",
   "metadata": {},
   "outputs": [],
   "source": [
    "def start_end_time(startTime,interval,length = 1000):\n",
    "#     Due to the limit of the api, we need a function to help cut a long time into small period.\n",
    "#     The function input the start time and interval and return the start time and endtime. \n",
    "#     \n",
    "#     read the time\n",
    "    startTime = datetime.datetime.strptime(startTime, \"%Y-%m-%d %H:%M:%S\")\n",
    "    \n",
    "#     unit \n",
    "    unit = interval\n",
    "#     transfer the interval frequence\n",
    "    if unit in [\"1m\",\"3m\",\"5m\",\"15m\",\"30m\"]:\n",
    "        unit = 'm'\n",
    "    elif unit in [\"1h\",\"2h\",\"4h\",\"6h\",\"8h\",\"12h\"]:\n",
    "        unit = 'hours'\n",
    "    elif unit in [\"1d\",\"3d\"]:\n",
    "        unit = 'D'\n",
    "    else:\n",
    "        unit = 'W'\n",
    "        \n",
    "    endTime = pd.to_datetime(startTime)+pd.to_timedelta(length, unit = unit)\n",
    "\n",
    "    startTime = datetime.datetime.timestamp(startTime)*1000\n",
    "    endTime = datetime.datetime.timestamp(endTime)*1000\n",
    "    \n",
    "    return str(int(startTime)),str(int(endTime))"
   ]
  },
  {
   "cell_type": "code",
   "execution_count": 25,
   "id": "0365761f",
   "metadata": {},
   "outputs": [],
   "source": [
    "def klines(symbol,startTime,endTime,interval):\n",
    "#    This function is aimed to gather the historical price data.    \n",
    "    BASE_URL = 'https://api.binance.com'\n",
    "    PATH = '/api/v3/klines'\n",
    "    \n",
    "    params = {\n",
    "        'symbol': symbol,\n",
    "        'interval': interval,\n",
    "        'startTime':startTime,\n",
    "        'endTime':endTime,\n",
    "        'limit':1000 # 500/1000 is the limit for each request\n",
    "    }\n",
    "\n",
    "    url = urljoin(BASE_URL, PATH)\n",
    "\n",
    "    response = requests.get(url,params=params)\n",
    "\n",
    "    data = response.json()\n",
    "    data = pd.DataFrame(data)\n",
    "#     change the cols\n",
    "    col = ['Open time','Open','High','Low','Close','Volume','Close time','Quote asset volume','Number of trades',\n",
    "       'Taker buy base asset volume','Taker buy quote asset volume','Ignore']\n",
    "    \n",
    "    if not data.empty:\n",
    "        data.columns = col\n",
    "#       transfer the timestamp into time\n",
    "        data['Open time'] = pd.to_datetime(data['Open time'],unit='ms',utc=True)\n",
    "        data['Close time'] = pd.to_datetime(data['Close time'],unit='ms',utc=True)\n",
    "        return data\n",
    "    else:\n",
    "        print('No data')"
   ]
  },
  {
   "cell_type": "markdown",
   "id": "2ee761df",
   "metadata": {},
   "source": [
    "# Sample of data"
   ]
  },
  {
   "cell_type": "markdown",
   "id": "e26e77ea",
   "metadata": {},
   "source": [
    "After build the function of API and exchange information, we can now obtain every token with every period data."
   ]
  },
  {
   "cell_type": "markdown",
   "id": "4ba2a6b0",
   "metadata": {},
   "source": [
    "For example, we here use famous 1m BTC as our data sample."
   ]
  },
  {
   "cell_type": "code",
   "execution_count": 26,
   "id": "27a14384",
   "metadata": {},
   "outputs": [
    {
     "data": {
      "text/plain": [
       "'BTCUSDT'"
      ]
     },
     "execution_count": 26,
     "metadata": {},
     "output_type": "execute_result"
    }
   ],
   "source": [
    "smb[11]"
   ]
  },
  {
   "cell_type": "code",
   "execution_count": 28,
   "id": "45b51b8d",
   "metadata": {},
   "outputs": [
    {
     "data": {
      "text/plain": [
       "'1m'"
      ]
     },
     "execution_count": 28,
     "metadata": {},
     "output_type": "execute_result"
    }
   ],
   "source": [
    "itv[0]"
   ]
  },
  {
   "cell_type": "code",
   "execution_count": 30,
   "id": "8a870953",
   "metadata": {},
   "outputs": [],
   "source": [
    "symbol = smb[11]\n",
    "interval = itv[0]\n",
    "\n",
    "startTime = '2021-09-01 00:00:00'\n",
    "[startTime,endTime] = start_end_time(startTime=startTime,interval=interval)\n",
    "\n",
    "data = klines(symbol=symbol,startTime=startTime,endTime=endTime,interval=interval)"
   ]
  },
  {
   "cell_type": "code",
   "execution_count": 31,
   "id": "78e6d84d",
   "metadata": {},
   "outputs": [
    {
     "data": {
      "text/html": [
       "<div>\n",
       "<style scoped>\n",
       "    .dataframe tbody tr th:only-of-type {\n",
       "        vertical-align: middle;\n",
       "    }\n",
       "\n",
       "    .dataframe tbody tr th {\n",
       "        vertical-align: top;\n",
       "    }\n",
       "\n",
       "    .dataframe thead th {\n",
       "        text-align: right;\n",
       "    }\n",
       "</style>\n",
       "<table border=\"1\" class=\"dataframe\">\n",
       "  <thead>\n",
       "    <tr style=\"text-align: right;\">\n",
       "      <th></th>\n",
       "      <th>Open time</th>\n",
       "      <th>Open</th>\n",
       "      <th>High</th>\n",
       "      <th>Low</th>\n",
       "      <th>Close</th>\n",
       "      <th>Volume</th>\n",
       "      <th>Close time</th>\n",
       "      <th>Quote asset volume</th>\n",
       "      <th>Number of trades</th>\n",
       "      <th>Taker buy base asset volume</th>\n",
       "      <th>Taker buy quote asset volume</th>\n",
       "      <th>Ignore</th>\n",
       "    </tr>\n",
       "  </thead>\n",
       "  <tbody>\n",
       "    <tr>\n",
       "      <th>0</th>\n",
       "      <td>2021-09-01 04:00:00+00:00</td>\n",
       "      <td>47043.65000000</td>\n",
       "      <td>47054.78000000</td>\n",
       "      <td>46991.96000000</td>\n",
       "      <td>47009.38000000</td>\n",
       "      <td>16.04384000</td>\n",
       "      <td>2021-09-01 04:00:59.999000+00:00</td>\n",
       "      <td>754341.09833020</td>\n",
       "      <td>667</td>\n",
       "      <td>8.45966000</td>\n",
       "      <td>397743.66640310</td>\n",
       "      <td>0</td>\n",
       "    </tr>\n",
       "    <tr>\n",
       "      <th>1</th>\n",
       "      <td>2021-09-01 04:01:00+00:00</td>\n",
       "      <td>47009.38000000</td>\n",
       "      <td>47025.24000000</td>\n",
       "      <td>46980.02000000</td>\n",
       "      <td>46995.37000000</td>\n",
       "      <td>22.86129000</td>\n",
       "      <td>2021-09-01 04:01:59.999000+00:00</td>\n",
       "      <td>1074492.76913610</td>\n",
       "      <td>533</td>\n",
       "      <td>12.05659000</td>\n",
       "      <td>566711.30732960</td>\n",
       "      <td>0</td>\n",
       "    </tr>\n",
       "    <tr>\n",
       "      <th>2</th>\n",
       "      <td>2021-09-01 04:02:00+00:00</td>\n",
       "      <td>46995.37000000</td>\n",
       "      <td>47020.26000000</td>\n",
       "      <td>46969.56000000</td>\n",
       "      <td>46995.11000000</td>\n",
       "      <td>19.67009000</td>\n",
       "      <td>2021-09-01 04:02:59.999000+00:00</td>\n",
       "      <td>924338.18065390</td>\n",
       "      <td>456</td>\n",
       "      <td>9.16799000</td>\n",
       "      <td>430803.69030850</td>\n",
       "      <td>0</td>\n",
       "    </tr>\n",
       "    <tr>\n",
       "      <th>3</th>\n",
       "      <td>2021-09-01 04:03:00+00:00</td>\n",
       "      <td>46995.11000000</td>\n",
       "      <td>47020.00000000</td>\n",
       "      <td>46984.68000000</td>\n",
       "      <td>47010.03000000</td>\n",
       "      <td>12.12577000</td>\n",
       "      <td>2021-09-01 04:03:59.999000+00:00</td>\n",
       "      <td>569978.26374720</td>\n",
       "      <td>371</td>\n",
       "      <td>6.85744000</td>\n",
       "      <td>322347.16252190</td>\n",
       "      <td>0</td>\n",
       "    </tr>\n",
       "    <tr>\n",
       "      <th>4</th>\n",
       "      <td>2021-09-01 04:04:00+00:00</td>\n",
       "      <td>47010.02000000</td>\n",
       "      <td>47017.25000000</td>\n",
       "      <td>46985.33000000</td>\n",
       "      <td>46985.35000000</td>\n",
       "      <td>10.84569000</td>\n",
       "      <td>2021-09-01 04:04:59.999000+00:00</td>\n",
       "      <td>509797.02832680</td>\n",
       "      <td>426</td>\n",
       "      <td>6.61054000</td>\n",
       "      <td>310725.14683290</td>\n",
       "      <td>0</td>\n",
       "    </tr>\n",
       "  </tbody>\n",
       "</table>\n",
       "</div>"
      ],
      "text/plain": [
       "                  Open time            Open            High             Low  \\\n",
       "0 2021-09-01 04:00:00+00:00  47043.65000000  47054.78000000  46991.96000000   \n",
       "1 2021-09-01 04:01:00+00:00  47009.38000000  47025.24000000  46980.02000000   \n",
       "2 2021-09-01 04:02:00+00:00  46995.37000000  47020.26000000  46969.56000000   \n",
       "3 2021-09-01 04:03:00+00:00  46995.11000000  47020.00000000  46984.68000000   \n",
       "4 2021-09-01 04:04:00+00:00  47010.02000000  47017.25000000  46985.33000000   \n",
       "\n",
       "            Close       Volume                       Close time  \\\n",
       "0  47009.38000000  16.04384000 2021-09-01 04:00:59.999000+00:00   \n",
       "1  46995.37000000  22.86129000 2021-09-01 04:01:59.999000+00:00   \n",
       "2  46995.11000000  19.67009000 2021-09-01 04:02:59.999000+00:00   \n",
       "3  47010.03000000  12.12577000 2021-09-01 04:03:59.999000+00:00   \n",
       "4  46985.35000000  10.84569000 2021-09-01 04:04:59.999000+00:00   \n",
       "\n",
       "  Quote asset volume  Number of trades Taker buy base asset volume  \\\n",
       "0    754341.09833020               667                  8.45966000   \n",
       "1   1074492.76913610               533                 12.05659000   \n",
       "2    924338.18065390               456                  9.16799000   \n",
       "3    569978.26374720               371                  6.85744000   \n",
       "4    509797.02832680               426                  6.61054000   \n",
       "\n",
       "  Taker buy quote asset volume Ignore  \n",
       "0              397743.66640310      0  \n",
       "1              566711.30732960      0  \n",
       "2              430803.69030850      0  \n",
       "3              322347.16252190      0  \n",
       "4              310725.14683290      0  "
      ]
     },
     "execution_count": 31,
     "metadata": {},
     "output_type": "execute_result"
    }
   ],
   "source": [
    "data.head()"
   ]
  },
  {
   "cell_type": "code",
   "execution_count": 32,
   "id": "478bcdbf",
   "metadata": {},
   "outputs": [],
   "source": [
    "data.to_csv('BTC_1min.csv')"
   ]
  }
 ],
 "metadata": {
  "kernelspec": {
   "display_name": "Python 3",
   "language": "python",
   "name": "python3"
  },
  "language_info": {
   "codemirror_mode": {
    "name": "ipython",
    "version": 3
   },
   "file_extension": ".py",
   "mimetype": "text/x-python",
   "name": "python",
   "nbconvert_exporter": "python",
   "pygments_lexer": "ipython3",
   "version": "3.8.8"
  },
  "toc": {
   "base_numbering": 1,
   "nav_menu": {},
   "number_sections": true,
   "sideBar": true,
   "skip_h1_title": false,
   "title_cell": "Table of Contents",
   "title_sidebar": "Contents",
   "toc_cell": false,
   "toc_position": {},
   "toc_section_display": true,
   "toc_window_display": false
  }
 },
 "nbformat": 4,
 "nbformat_minor": 5
}
